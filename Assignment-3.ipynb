{
 "cells": [
  {
   "cell_type": "markdown",
   "id": "7e76d9b4",
   "metadata": {},
   "source": [
    "# Problem Statement\n",
    "\n",
    "We want to build an online shopping cart system that allows users to add products to their cart, calculate the total cost, apply discounts, and generate an invoice. The system should include the following functionalities:\n",
    "\n",
    "- Adding products to the cart\n",
    "- Removing products from the cart\n",
    "- Calculating the total cost\n",
    "- Applying discounts based on user type\n",
    "- Generating an invoice\n",
    "\n",
    "### 1. Create the Product class\n",
    "\n",
    "We create a basic `Product` class with attributes for the product name and price."
   ]
  },
  {
   "cell_type": "code",
   "execution_count": 20,
   "id": "a286f01a",
   "metadata": {},
   "outputs": [],
   "source": [
    "class Product:\n",
    "    def __init__(self, product_name, product_price):\n",
    "        self.product_name = product_name\n",
    "        self.price = product_price"
   ]
  },
  {
   "cell_type": "markdown",
   "id": "0c9aa397",
   "metadata": {},
   "source": [
    "### 2.  Implement the User class\n",
    "\n",
    "In this step, we create a `User` class with attributes for the user's name and whether they are a premium member. We then modify the `calculate_total_cost` method in the `ShoppingCart` class to apply a `10%` discount for premium users."
   ]
  },
  {
   "cell_type": "code",
   "execution_count": 21,
   "id": "3393e953",
   "metadata": {},
   "outputs": [],
   "source": [
    "class User:\n",
    "    def __init__(self, user_name, is_premium_member):\n",
    "        self.user_name = user_name\n",
    "        self.is_premium_member = is_premium_member"
   ]
  },
  {
   "cell_type": "markdown",
   "id": "3b7e070b",
   "metadata": {},
   "source": [
    "### 3. Create the ShoppingCart class\n",
    "\n",
    "In this step, we create a `ShoppingCart` class with methods for adding and removing products from the cart, as well as calculating the total cost of the items in the cart."
   ]
  },
  {
   "cell_type": "code",
   "execution_count": 59,
   "id": "c0b5196d",
   "metadata": {},
   "outputs": [],
   "source": [
    "class ShoppingCart:\n",
    "    def __init__(self, user):\n",
    "        self.product_list = {}\n",
    "        self.total = 0\n",
    "        self.user = user\n",
    "\n",
    "    def add_product(self, product_name, product_quantity, price):\n",
    "        if product_name in self.product_list:\n",
    "            self.product_list[product_name][\"quantity\"] += product_quantity\n",
    "        else:\n",
    "            self.product_list[product_name] = {\"quantity\": product_quantity, \"price\": price}\n",
    "\n",
    "    def remove_product(self, product_name):\n",
    "        if product_name in self.product_list:\n",
    "            del self.product_list[product_name]\n",
    "            print(f'{product_name} has been removed from the cart.')\n",
    "        else:\n",
    "            print(f'{product_name} not available.')\n",
    "\n",
    "    @discount_10_percent\n",
    "    def calculate_cost(self):\n",
    "        print('------------ The Invoice ------------')\n",
    "        for product, details in self.product_list.items():\n",
    "            product_quantity = details[\"quantity\"]\n",
    "            price = details[\"price\"]\n",
    "            total_price = product_quantity * price\n",
    "            print(f'{product} : {product_quantity} x ${price} = ${total_price}')\n",
    "            self.total += total_price\n",
    "        print('.....................................')\n",
    "        print(f'Total Bill Amount without Discount: ${self.total}')\n"
   ]
  },
  {
   "cell_type": "markdown",
   "id": "da1f3494",
   "metadata": {},
   "source": [
    "Here, we defined a decorator `discount_10_percent` that applies a `10%` discount to the total cost. We then apply this decorator to the `calculate_total_cost` method in the `ShoppingCart` class."
   ]
  },
  {
   "cell_type": "code",
   "execution_count": 44,
   "id": "70bbec8d",
   "metadata": {},
   "outputs": [],
   "source": [
    "def discount_10_percent(func):\n",
    "    def wrapper(self):\n",
    "        discountable_amount = 0\n",
    "        if self.user.premium_member:\n",
    "            func(self)\n",
    "            discountable_amount = self.total * 0.1\n",
    "            print(f'Premium Discount: ${discountable_amount}')\n",
    "            print('.....................................')\n",
    "            print(f'Total amount after discount: ${self.total - discountable_amount}')\n",
    "        else:\n",
    "            func(self) \n",
    "    return wrapper"
   ]
  },
  {
   "cell_type": "markdown",
   "id": "afc26053",
   "metadata": {},
   "source": [
    "### 4. Testing the functionality\n",
    "\n",
    "Now that we have implemented the necessary classes and methods, let's test our online shopping cart system:"
   ]
  },
  {
   "cell_type": "code",
   "execution_count": 49,
   "id": "6186bdcb",
   "metadata": {},
   "outputs": [],
   "source": [
    "user = User('Spidey', True)\n",
    "shopping_cart = ShoppingCart(user)\n",
    "shopping_cart.add_product(\"Apple\", 0.5, 300)\n",
    "shopping_cart.add_product(\"Tomato\", 1.0, 100)\n",
    "shopping_cart.add_product(\"Carrot\", 0.75, 100)\n",
    "shopping_cart.add_product(\"Juice\", 1.0, 150)\n",
    "  "
   ]
  },
  {
   "cell_type": "markdown",
   "id": "7ea7c96e",
   "metadata": {},
   "source": [
    "### 5. Generating Invoice for a given cart"
   ]
  },
  {
   "cell_type": "code",
   "execution_count": 64,
   "id": "3c12ae69",
   "metadata": {
    "scrolled": true
   },
   "outputs": [
    {
     "ename": "AttributeError",
     "evalue": "'User' object has no attribute 'premium_member'",
     "output_type": "error",
     "traceback": [
      "\u001b[1;31m---------------------------------------------------------------------------\u001b[0m",
      "\u001b[1;31mAttributeError\u001b[0m                            Traceback (most recent call last)",
      "Cell \u001b[1;32mIn[64], line 1\u001b[0m\n\u001b[1;32m----> 1\u001b[0m \u001b[43mshopping_cart\u001b[49m\u001b[38;5;241;43m.\u001b[39;49m\u001b[43mcalculate_cost\u001b[49m\u001b[43m(\u001b[49m\u001b[43m)\u001b[49m\n",
      "Cell \u001b[1;32mIn[28], line 4\u001b[0m, in \u001b[0;36mdiscount_10_percent.<locals>.wrapper\u001b[1;34m(self)\u001b[0m\n\u001b[0;32m      2\u001b[0m \u001b[38;5;28;01mdef\u001b[39;00m \u001b[38;5;21mwrapper\u001b[39m(\u001b[38;5;28mself\u001b[39m):\n\u001b[0;32m      3\u001b[0m     discountable_amount \u001b[38;5;241m=\u001b[39m \u001b[38;5;241m0\u001b[39m\n\u001b[1;32m----> 4\u001b[0m     \u001b[38;5;28;01mif\u001b[39;00m \u001b[38;5;28;43mself\u001b[39;49m\u001b[38;5;241;43m.\u001b[39;49m\u001b[43muser\u001b[49m\u001b[38;5;241;43m.\u001b[39;49m\u001b[43mpremium_member\u001b[49m:\n\u001b[0;32m      5\u001b[0m         func(\u001b[38;5;28mself\u001b[39m)\n\u001b[0;32m      6\u001b[0m         discountable_amount \u001b[38;5;241m=\u001b[39m \u001b[38;5;28mself\u001b[39m\u001b[38;5;241m.\u001b[39mtotal \u001b[38;5;241m*\u001b[39m \u001b[38;5;241m0.1\u001b[39m\n",
      "\u001b[1;31mAttributeError\u001b[0m: 'User' object has no attribute 'premium_member'"
     ]
    }
   ],
   "source": [
    "shopping_cart.calculate_cost()"
   ]
  },
  {
   "cell_type": "markdown",
   "id": "b602d561-09a8-4086-9295-dce1e8dacb71",
   "metadata": {},
   "source": [
    "### 6. Bonus Challenge"
   ]
  },
  {
   "cell_type": "markdown",
   "id": "cd2cf83b",
   "metadata": {},
   "source": [
    "In this case each user share the same cart, which is useless. Also each user can register himself/herself as a premium user, which is not practical again. So, you have to add following two additional features to the above program, to make it more real:\n",
    "\n",
    "1. Cart for a user should be independent from other users\n",
    "2. Add a new admin feature `is_admin` that takes in boolean values `[True, False]`, and only admin should be allowed to create other admins and set `is_premium=True` for other users"
   ]
  },
  {
   "cell_type": "code",
   "execution_count": null,
   "id": "050b7c5a",
   "metadata": {},
   "outputs": [],
   "source": []
  }
 ],
 "metadata": {
  "kernelspec": {
   "display_name": "Python 3 (ipykernel)",
   "language": "python",
   "name": "python3"
  },
  "language_info": {
   "codemirror_mode": {
    "name": "ipython",
    "version": 3
   },
   "file_extension": ".py",
   "mimetype": "text/x-python",
   "name": "python",
   "nbconvert_exporter": "python",
   "pygments_lexer": "ipython3",
   "version": "3.12.2"
  }
 },
 "nbformat": 4,
 "nbformat_minor": 5
}
